{
 "cells": [
  {
   "cell_type": "code",
   "execution_count": 97,
   "id": "f3702b3c",
   "metadata": {},
   "outputs": [],
   "source": [
    "import numpy as np\n",
    "import pandas as pd"
   ]
  },
  {
   "cell_type": "code",
   "execution_count": 98,
   "id": "1e3df452",
   "metadata": {},
   "outputs": [
    {
     "data": {
      "text/html": [
       "<div>\n",
       "<style scoped>\n",
       "    .dataframe tbody tr th:only-of-type {\n",
       "        vertical-align: middle;\n",
       "    }\n",
       "\n",
       "    .dataframe tbody tr th {\n",
       "        vertical-align: top;\n",
       "    }\n",
       "\n",
       "    .dataframe thead th {\n",
       "        text-align: right;\n",
       "    }\n",
       "</style>\n",
       "<table border=\"1\" class=\"dataframe\">\n",
       "  <thead>\n",
       "    <tr style=\"text-align: right;\">\n",
       "      <th></th>\n",
       "      <th>business_id</th>\n",
       "      <th>date</th>\n",
       "      <th>review_id</th>\n",
       "      <th>stars</th>\n",
       "      <th>text</th>\n",
       "      <th>type</th>\n",
       "      <th>user_id</th>\n",
       "      <th>cool</th>\n",
       "      <th>useful</th>\n",
       "      <th>funny</th>\n",
       "    </tr>\n",
       "  </thead>\n",
       "  <tbody>\n",
       "    <tr>\n",
       "      <th>0</th>\n",
       "      <td>9yKzy9PApeiPPOUJEtnvkg</td>\n",
       "      <td>2011-01-26</td>\n",
       "      <td>fWKvX83p0-ka4JS3dc6E5A</td>\n",
       "      <td>5</td>\n",
       "      <td>My wife took me here on my birthday for breakf...</td>\n",
       "      <td>review</td>\n",
       "      <td>rLtl8ZkDX5vH5nAx9C3q5Q</td>\n",
       "      <td>2</td>\n",
       "      <td>5</td>\n",
       "      <td>0</td>\n",
       "    </tr>\n",
       "    <tr>\n",
       "      <th>1</th>\n",
       "      <td>ZRJwVLyzEJq1VAihDhYiow</td>\n",
       "      <td>2011-07-27</td>\n",
       "      <td>IjZ33sJrzXqU-0X6U8NwyA</td>\n",
       "      <td>5</td>\n",
       "      <td>I have no idea why some people give bad review...</td>\n",
       "      <td>review</td>\n",
       "      <td>0a2KyEL0d3Yb1V6aivbIuQ</td>\n",
       "      <td>0</td>\n",
       "      <td>0</td>\n",
       "      <td>0</td>\n",
       "    </tr>\n",
       "    <tr>\n",
       "      <th>2</th>\n",
       "      <td>6oRAC4uyJCsJl1X0WZpVSA</td>\n",
       "      <td>2012-06-14</td>\n",
       "      <td>IESLBzqUCLdSzSqm0eCSxQ</td>\n",
       "      <td>4</td>\n",
       "      <td>love the gyro plate. Rice is so good and I als...</td>\n",
       "      <td>review</td>\n",
       "      <td>0hT2KtfLiobPvh6cDC8JQg</td>\n",
       "      <td>0</td>\n",
       "      <td>1</td>\n",
       "      <td>0</td>\n",
       "    </tr>\n",
       "    <tr>\n",
       "      <th>3</th>\n",
       "      <td>_1QQZuf4zZOyFCvXc0o6Vg</td>\n",
       "      <td>2010-05-27</td>\n",
       "      <td>G-WvGaISbqqaMHlNnByodA</td>\n",
       "      <td>5</td>\n",
       "      <td>Rosie, Dakota, and I LOVE Chaparral Dog Park!!...</td>\n",
       "      <td>review</td>\n",
       "      <td>uZetl9T0NcROGOyFfughhg</td>\n",
       "      <td>1</td>\n",
       "      <td>2</td>\n",
       "      <td>0</td>\n",
       "    </tr>\n",
       "    <tr>\n",
       "      <th>4</th>\n",
       "      <td>6ozycU1RpktNG2-1BroVtw</td>\n",
       "      <td>2012-01-05</td>\n",
       "      <td>1uJFq2r5QfJG_6ExMRCaGw</td>\n",
       "      <td>5</td>\n",
       "      <td>General Manager Scott Petello is a good egg!!!...</td>\n",
       "      <td>review</td>\n",
       "      <td>vYmM4KTsC8ZfQBg-j5MWkw</td>\n",
       "      <td>0</td>\n",
       "      <td>0</td>\n",
       "      <td>0</td>\n",
       "    </tr>\n",
       "  </tbody>\n",
       "</table>\n",
       "</div>"
      ],
      "text/plain": [
       "              business_id        date               review_id  stars  \\\n",
       "0  9yKzy9PApeiPPOUJEtnvkg  2011-01-26  fWKvX83p0-ka4JS3dc6E5A      5   \n",
       "1  ZRJwVLyzEJq1VAihDhYiow  2011-07-27  IjZ33sJrzXqU-0X6U8NwyA      5   \n",
       "2  6oRAC4uyJCsJl1X0WZpVSA  2012-06-14  IESLBzqUCLdSzSqm0eCSxQ      4   \n",
       "3  _1QQZuf4zZOyFCvXc0o6Vg  2010-05-27  G-WvGaISbqqaMHlNnByodA      5   \n",
       "4  6ozycU1RpktNG2-1BroVtw  2012-01-05  1uJFq2r5QfJG_6ExMRCaGw      5   \n",
       "\n",
       "                                                text    type  \\\n",
       "0  My wife took me here on my birthday for breakf...  review   \n",
       "1  I have no idea why some people give bad review...  review   \n",
       "2  love the gyro plate. Rice is so good and I als...  review   \n",
       "3  Rosie, Dakota, and I LOVE Chaparral Dog Park!!...  review   \n",
       "4  General Manager Scott Petello is a good egg!!!...  review   \n",
       "\n",
       "                  user_id  cool  useful  funny  \n",
       "0  rLtl8ZkDX5vH5nAx9C3q5Q     2       5      0  \n",
       "1  0a2KyEL0d3Yb1V6aivbIuQ     0       0      0  \n",
       "2  0hT2KtfLiobPvh6cDC8JQg     0       1      0  \n",
       "3  uZetl9T0NcROGOyFfughhg     1       2      0  \n",
       "4  vYmM4KTsC8ZfQBg-j5MWkw     0       0      0  "
      ]
     },
     "execution_count": 98,
     "metadata": {},
     "output_type": "execute_result"
    }
   ],
   "source": [
    "df = pd.read_csv('yelp.csv')\n",
    "df.head()"
   ]
  },
  {
   "cell_type": "code",
   "execution_count": 99,
   "id": "15b645bb",
   "metadata": {},
   "outputs": [
    {
     "data": {
      "text/plain": [
       "(10000, 10)"
      ]
     },
     "execution_count": 99,
     "metadata": {},
     "output_type": "execute_result"
    }
   ],
   "source": [
    "df.shape"
   ]
  },
  {
   "cell_type": "code",
   "execution_count": 100,
   "id": "cc7b3a70",
   "metadata": {},
   "outputs": [],
   "source": [
    "df.drop(['business_id', 'date', 'review_id', 'user_id','type','stars'], axis=1, inplace=True)"
   ]
  },
  {
   "cell_type": "code",
   "execution_count": 101,
   "id": "9b840a39",
   "metadata": {
    "scrolled": true
   },
   "outputs": [
    {
     "data": {
      "text/html": [
       "<div>\n",
       "<style scoped>\n",
       "    .dataframe tbody tr th:only-of-type {\n",
       "        vertical-align: middle;\n",
       "    }\n",
       "\n",
       "    .dataframe tbody tr th {\n",
       "        vertical-align: top;\n",
       "    }\n",
       "\n",
       "    .dataframe thead th {\n",
       "        text-align: right;\n",
       "    }\n",
       "</style>\n",
       "<table border=\"1\" class=\"dataframe\">\n",
       "  <thead>\n",
       "    <tr style=\"text-align: right;\">\n",
       "      <th></th>\n",
       "      <th>text</th>\n",
       "      <th>cool</th>\n",
       "      <th>useful</th>\n",
       "      <th>funny</th>\n",
       "    </tr>\n",
       "  </thead>\n",
       "  <tbody>\n",
       "    <tr>\n",
       "      <th>0</th>\n",
       "      <td>My wife took me here on my birthday for breakf...</td>\n",
       "      <td>2</td>\n",
       "      <td>5</td>\n",
       "      <td>0</td>\n",
       "    </tr>\n",
       "    <tr>\n",
       "      <th>1</th>\n",
       "      <td>I have no idea why some people give bad review...</td>\n",
       "      <td>0</td>\n",
       "      <td>0</td>\n",
       "      <td>0</td>\n",
       "    </tr>\n",
       "  </tbody>\n",
       "</table>\n",
       "</div>"
      ],
      "text/plain": [
       "                                                text  cool  useful  funny\n",
       "0  My wife took me here on my birthday for breakf...     2       5      0\n",
       "1  I have no idea why some people give bad review...     0       0      0"
      ]
     },
     "execution_count": 101,
     "metadata": {},
     "output_type": "execute_result"
    }
   ],
   "source": [
    "df.head(2)"
   ]
  },
  {
   "cell_type": "code",
   "execution_count": 102,
   "id": "eadbba0d",
   "metadata": {},
   "outputs": [
    {
     "data": {
      "text/plain": [
       "'love the gyro plate. Rice is so good and I also dig their candy selection :)'"
      ]
     },
     "execution_count": 102,
     "metadata": {},
     "output_type": "execute_result"
    }
   ],
   "source": [
    "#using regular expression\n",
    "import re\n",
    "clean = re.compile('<.*>')\n",
    "re.sub(clean, '', df.iloc[2].text)"
   ]
  },
  {
   "cell_type": "code",
   "execution_count": 103,
   "id": "fc1f58b4",
   "metadata": {},
   "outputs": [],
   "source": [
    "def Clean(review):\n",
    "    clean = re.compile('<.*\\>')\n",
    "    return re.sub(clean, '', review)"
   ]
  },
  {
   "cell_type": "code",
   "execution_count": 104,
   "id": "add86d21",
   "metadata": {},
   "outputs": [],
   "source": [
    "df['text'] = df['text'].apply(Clean)"
   ]
  },
  {
   "cell_type": "code",
   "execution_count": 105,
   "id": "21cf1915",
   "metadata": {},
   "outputs": [
    {
     "data": {
      "text/plain": [
       "'Cliff notes\\n- Cheap: $1-2/plate\\n- Fast: It\\'s ready-to-go and on a conveyor\\n- Acceptable quality: I\\'m here weekly and haven\\'t gotten sick lol\\n\\nThis place is definitely good for what it is, \"it\" being a budget-friendly sushi place that\\'s great for a quick bite.  In a response to the lower-rating reviews stating how the food is just okay at best or authentic or blah blah blah, well think of it like wal-mart vs. *inserthighendretailerhere*.  This place has a business model based on selling in large volumes (hence the low prices like wal-mart) so they\\'re gonna have to \"reduce costs\" somehow (so-so quality food, not-so-attentive staff, and slightly smaller than average portions), but it\\'s still a solid bang-for-your-buck kinda place.\\n\\nOn top of this, I can be in and out quickly since everything is already prepared, perfect for those quick 30 min lunch breaks.  All that\\'s required is for you to grab it off the conveyor (depending on whether or not all the items you want are on the conveyor at the time). \\n\\nI\\'ve never had issues with seating, but do not make a point to go during peak hours and usually go with a small party (2-4 people).\\n\\nFor those claiming to be \"left to fend for themselves\" due to an inattentive staff, most of your sushi-related inquiries can be answered by this thing called \"the menu\" that sits on the counters.  See, this miraculous piece of technology contains things referred to as \"descriptions\" on them that help to inform you about the sushi going round-and-round before you.  Furthermore, there\\'s even a pricing guide based on the color code of the plates to assist you further! WOW! Lol wtf do people expect for $1-2 plates of sushi?  Someone to hold your hand? LOLOLOLOLOLOLOL DIAF\\n\\nAnd the cherry on top? $4 large japanese beers and $5 sake bombs! HELL YEAH!'"
      ]
     },
     "execution_count": 105,
     "metadata": {},
     "output_type": "execute_result"
    }
   ],
   "source": [
    "df['text'][50]"
   ]
  },
  {
   "cell_type": "code",
   "execution_count": 106,
   "id": "b7150a36",
   "metadata": {},
   "outputs": [],
   "source": [
    "def lower(text):\n",
    "    return text.lower()"
   ]
  },
  {
   "cell_type": "code",
   "execution_count": 107,
   "id": "7d91c053",
   "metadata": {},
   "outputs": [],
   "source": [
    "df['text']=df['text'].apply(lower)"
   ]
  },
  {
   "cell_type": "code",
   "execution_count": 108,
   "id": "8e24d29e",
   "metadata": {},
   "outputs": [
    {
     "data": {
      "text/plain": [
       "'cliff notes\\n- cheap: $1-2/plate\\n- fast: it\\'s ready-to-go and on a conveyor\\n- acceptable quality: i\\'m here weekly and haven\\'t gotten sick lol\\n\\nthis place is definitely good for what it is, \"it\" being a budget-friendly sushi place that\\'s great for a quick bite.  in a response to the lower-rating reviews stating how the food is just okay at best or authentic or blah blah blah, well think of it like wal-mart vs. *inserthighendretailerhere*.  this place has a business model based on selling in large volumes (hence the low prices like wal-mart) so they\\'re gonna have to \"reduce costs\" somehow (so-so quality food, not-so-attentive staff, and slightly smaller than average portions), but it\\'s still a solid bang-for-your-buck kinda place.\\n\\non top of this, i can be in and out quickly since everything is already prepared, perfect for those quick 30 min lunch breaks.  all that\\'s required is for you to grab it off the conveyor (depending on whether or not all the items you want are on the conveyor at the time). \\n\\ni\\'ve never had issues with seating, but do not make a point to go during peak hours and usually go with a small party (2-4 people).\\n\\nfor those claiming to be \"left to fend for themselves\" due to an inattentive staff, most of your sushi-related inquiries can be answered by this thing called \"the menu\" that sits on the counters.  see, this miraculous piece of technology contains things referred to as \"descriptions\" on them that help to inform you about the sushi going round-and-round before you.  furthermore, there\\'s even a pricing guide based on the color code of the plates to assist you further! wow! lol wtf do people expect for $1-2 plates of sushi?  someone to hold your hand? lololololololol diaf\\n\\nand the cherry on top? $4 large japanese beers and $5 sake bombs! hell yeah!'"
      ]
     },
     "execution_count": 108,
     "metadata": {},
     "output_type": "execute_result"
    }
   ],
   "source": [
    "df['text'][50]"
   ]
  },
  {
   "cell_type": "code",
   "execution_count": 109,
   "id": "600f828b",
   "metadata": {},
   "outputs": [],
   "source": [
    "#removing special characters\n",
    "def special(text):\n",
    "    x=''\n",
    "    \n",
    "    for i in text:\n",
    "        if i.isalnum():\n",
    "            x = x + i\n",
    "        else:\n",
    "            x = x + ' '\n",
    "    return x   "
   ]
  },
  {
   "cell_type": "code",
   "execution_count": 110,
   "id": "36c87da3",
   "metadata": {},
   "outputs": [],
   "source": [
    "df['text']= df['text'].apply(special)"
   ]
  },
  {
   "cell_type": "code",
   "execution_count": 111,
   "id": "ab14a532",
   "metadata": {},
   "outputs": [
    {
     "data": {
      "text/html": [
       "<div>\n",
       "<style scoped>\n",
       "    .dataframe tbody tr th:only-of-type {\n",
       "        vertical-align: middle;\n",
       "    }\n",
       "\n",
       "    .dataframe tbody tr th {\n",
       "        vertical-align: top;\n",
       "    }\n",
       "\n",
       "    .dataframe thead th {\n",
       "        text-align: right;\n",
       "    }\n",
       "</style>\n",
       "<table border=\"1\" class=\"dataframe\">\n",
       "  <thead>\n",
       "    <tr style=\"text-align: right;\">\n",
       "      <th></th>\n",
       "      <th>text</th>\n",
       "      <th>cool</th>\n",
       "      <th>useful</th>\n",
       "      <th>funny</th>\n",
       "    </tr>\n",
       "  </thead>\n",
       "  <tbody>\n",
       "    <tr>\n",
       "      <th>0</th>\n",
       "      <td>my wife took me here on my birthday for breakf...</td>\n",
       "      <td>2</td>\n",
       "      <td>5</td>\n",
       "      <td>0</td>\n",
       "    </tr>\n",
       "    <tr>\n",
       "      <th>1</th>\n",
       "      <td>i have no idea why some people give bad review...</td>\n",
       "      <td>0</td>\n",
       "      <td>0</td>\n",
       "      <td>0</td>\n",
       "    </tr>\n",
       "    <tr>\n",
       "      <th>2</th>\n",
       "      <td>love the gyro plate  rice is so good and i als...</td>\n",
       "      <td>0</td>\n",
       "      <td>1</td>\n",
       "      <td>0</td>\n",
       "    </tr>\n",
       "    <tr>\n",
       "      <th>3</th>\n",
       "      <td>rosie  dakota  and i love chaparral dog park  ...</td>\n",
       "      <td>1</td>\n",
       "      <td>2</td>\n",
       "      <td>0</td>\n",
       "    </tr>\n",
       "    <tr>\n",
       "      <th>4</th>\n",
       "      <td>general manager scott petello is a good egg   ...</td>\n",
       "      <td>0</td>\n",
       "      <td>0</td>\n",
       "      <td>0</td>\n",
       "    </tr>\n",
       "  </tbody>\n",
       "</table>\n",
       "</div>"
      ],
      "text/plain": [
       "                                                text  cool  useful  funny\n",
       "0  my wife took me here on my birthday for breakf...     2       5      0\n",
       "1  i have no idea why some people give bad review...     0       0      0\n",
       "2  love the gyro plate  rice is so good and i als...     0       1      0\n",
       "3  rosie  dakota  and i love chaparral dog park  ...     1       2      0\n",
       "4  general manager scott petello is a good egg   ...     0       0      0"
      ]
     },
     "execution_count": 111,
     "metadata": {},
     "output_type": "execute_result"
    }
   ],
   "source": [
    "df.head()"
   ]
  },
  {
   "cell_type": "code",
   "execution_count": 112,
   "id": "c9e3d516",
   "metadata": {},
   "outputs": [
    {
     "data": {
      "text/plain": [
       "'cliff notes   cheap   1 2 plate   fast  it s ready to go and on a conveyor   acceptable quality  i m here weekly and haven t gotten sick lol  this place is definitely good for what it is   it  being a budget friendly sushi place that s great for a quick bite   in a response to the lower rating reviews stating how the food is just okay at best or authentic or blah blah blah  well think of it like wal mart vs   inserthighendretailerhere    this place has a business model based on selling in large volumes  hence the low prices like wal mart  so they re gonna have to  reduce costs  somehow  so so quality food  not so attentive staff  and slightly smaller than average portions   but it s still a solid bang for your buck kinda place   on top of this  i can be in and out quickly since everything is already prepared  perfect for those quick 30 min lunch breaks   all that s required is for you to grab it off the conveyor  depending on whether or not all the items you want are on the conveyor at the time     i ve never had issues with seating  but do not make a point to go during peak hours and usually go with a small party  2 4 people    for those claiming to be  left to fend for themselves  due to an inattentive staff  most of your sushi related inquiries can be answered by this thing called  the menu  that sits on the counters   see  this miraculous piece of technology contains things referred to as  descriptions  on them that help to inform you about the sushi going round and round before you   furthermore  there s even a pricing guide based on the color code of the plates to assist you further  wow  lol wtf do people expect for  1 2 plates of sushi   someone to hold your hand  lololololololol diaf  and the cherry on top   4 large japanese beers and  5 sake bombs  hell yeah '"
      ]
     },
     "execution_count": 112,
     "metadata": {},
     "output_type": "execute_result"
    }
   ],
   "source": [
    "df['text'][50]"
   ]
  },
  {
   "cell_type": "code",
   "execution_count": 113,
   "id": "b8c0fb5a",
   "metadata": {},
   "outputs": [],
   "source": [
    "#importing stop words\n",
    "import nltk\n",
    "from nltk.corpus import stopwords"
   ]
  },
  {
   "cell_type": "code",
   "execution_count": 114,
   "id": "55705ef5",
   "metadata": {},
   "outputs": [
    {
     "data": {
      "text/plain": [
       "['i',\n",
       " 'me',\n",
       " 'my',\n",
       " 'myself',\n",
       " 'we',\n",
       " 'our',\n",
       " 'ours',\n",
       " 'ourselves',\n",
       " 'you',\n",
       " \"you're\",\n",
       " \"you've\",\n",
       " \"you'll\",\n",
       " \"you'd\",\n",
       " 'your',\n",
       " 'yours',\n",
       " 'yourself',\n",
       " 'yourselves',\n",
       " 'he',\n",
       " 'him',\n",
       " 'his',\n",
       " 'himself',\n",
       " 'she',\n",
       " \"she's\",\n",
       " 'her',\n",
       " 'hers',\n",
       " 'herself',\n",
       " 'it',\n",
       " \"it's\",\n",
       " 'its',\n",
       " 'itself',\n",
       " 'they',\n",
       " 'them',\n",
       " 'their',\n",
       " 'theirs',\n",
       " 'themselves',\n",
       " 'what',\n",
       " 'which',\n",
       " 'who',\n",
       " 'whom',\n",
       " 'this',\n",
       " 'that',\n",
       " \"that'll\",\n",
       " 'these',\n",
       " 'those',\n",
       " 'am',\n",
       " 'is',\n",
       " 'are',\n",
       " 'was',\n",
       " 'were',\n",
       " 'be',\n",
       " 'been',\n",
       " 'being',\n",
       " 'have',\n",
       " 'has',\n",
       " 'had',\n",
       " 'having',\n",
       " 'do',\n",
       " 'does',\n",
       " 'did',\n",
       " 'doing',\n",
       " 'a',\n",
       " 'an',\n",
       " 'the',\n",
       " 'and',\n",
       " 'but',\n",
       " 'if',\n",
       " 'or',\n",
       " 'because',\n",
       " 'as',\n",
       " 'until',\n",
       " 'while',\n",
       " 'of',\n",
       " 'at',\n",
       " 'by',\n",
       " 'for',\n",
       " 'with',\n",
       " 'about',\n",
       " 'against',\n",
       " 'between',\n",
       " 'into',\n",
       " 'through',\n",
       " 'during',\n",
       " 'before',\n",
       " 'after',\n",
       " 'above',\n",
       " 'below',\n",
       " 'to',\n",
       " 'from',\n",
       " 'up',\n",
       " 'down',\n",
       " 'in',\n",
       " 'out',\n",
       " 'on',\n",
       " 'off',\n",
       " 'over',\n",
       " 'under',\n",
       " 'again',\n",
       " 'further',\n",
       " 'then',\n",
       " 'once',\n",
       " 'here',\n",
       " 'there',\n",
       " 'when',\n",
       " 'where',\n",
       " 'why',\n",
       " 'how',\n",
       " 'all',\n",
       " 'any',\n",
       " 'both',\n",
       " 'each',\n",
       " 'few',\n",
       " 'more',\n",
       " 'most',\n",
       " 'other',\n",
       " 'some',\n",
       " 'such',\n",
       " 'no',\n",
       " 'nor',\n",
       " 'not',\n",
       " 'only',\n",
       " 'own',\n",
       " 'same',\n",
       " 'so',\n",
       " 'than',\n",
       " 'too',\n",
       " 'very',\n",
       " 's',\n",
       " 't',\n",
       " 'can',\n",
       " 'will',\n",
       " 'just',\n",
       " 'don',\n",
       " \"don't\",\n",
       " 'should',\n",
       " \"should've\",\n",
       " 'now',\n",
       " 'd',\n",
       " 'll',\n",
       " 'm',\n",
       " 'o',\n",
       " 're',\n",
       " 've',\n",
       " 'y',\n",
       " 'ain',\n",
       " 'aren',\n",
       " \"aren't\",\n",
       " 'couldn',\n",
       " \"couldn't\",\n",
       " 'didn',\n",
       " \"didn't\",\n",
       " 'doesn',\n",
       " \"doesn't\",\n",
       " 'hadn',\n",
       " \"hadn't\",\n",
       " 'hasn',\n",
       " \"hasn't\",\n",
       " 'haven',\n",
       " \"haven't\",\n",
       " 'isn',\n",
       " \"isn't\",\n",
       " 'ma',\n",
       " 'mightn',\n",
       " \"mightn't\",\n",
       " 'mustn',\n",
       " \"mustn't\",\n",
       " 'needn',\n",
       " \"needn't\",\n",
       " 'shan',\n",
       " \"shan't\",\n",
       " 'shouldn',\n",
       " \"shouldn't\",\n",
       " 'wasn',\n",
       " \"wasn't\",\n",
       " 'weren',\n",
       " \"weren't\",\n",
       " 'won',\n",
       " \"won't\",\n",
       " 'wouldn',\n",
       " \"wouldn't\"]"
      ]
     },
     "execution_count": 114,
     "metadata": {},
     "output_type": "execute_result"
    }
   ],
   "source": [
    "words = stopwords.words('english')\n",
    "words"
   ]
  },
  {
   "cell_type": "code",
   "execution_count": 115,
   "id": "7774365b",
   "metadata": {},
   "outputs": [],
   "source": [
    "def stopwords(text):\n",
    "    x = []\n",
    "    for i in text.split():\n",
    "        if i not in words:\n",
    "            x.append(i)\n",
    "    y=x[:]\n",
    "    x.clear()\n",
    "    return y"
   ]
  },
  {
   "cell_type": "code",
   "execution_count": 116,
   "id": "f1243736",
   "metadata": {},
   "outputs": [],
   "source": [
    "df['text']= df['text'].apply(stopwords)"
   ]
  },
  {
   "cell_type": "code",
   "execution_count": 117,
   "id": "319755a5",
   "metadata": {},
   "outputs": [
    {
     "data": {
      "text/html": [
       "<div>\n",
       "<style scoped>\n",
       "    .dataframe tbody tr th:only-of-type {\n",
       "        vertical-align: middle;\n",
       "    }\n",
       "\n",
       "    .dataframe tbody tr th {\n",
       "        vertical-align: top;\n",
       "    }\n",
       "\n",
       "    .dataframe thead th {\n",
       "        text-align: right;\n",
       "    }\n",
       "</style>\n",
       "<table border=\"1\" class=\"dataframe\">\n",
       "  <thead>\n",
       "    <tr style=\"text-align: right;\">\n",
       "      <th></th>\n",
       "      <th>text</th>\n",
       "      <th>cool</th>\n",
       "      <th>useful</th>\n",
       "      <th>funny</th>\n",
       "    </tr>\n",
       "  </thead>\n",
       "  <tbody>\n",
       "    <tr>\n",
       "      <th>0</th>\n",
       "      <td>[wife, took, birthday, breakfast, excellent, w...</td>\n",
       "      <td>2</td>\n",
       "      <td>5</td>\n",
       "      <td>0</td>\n",
       "    </tr>\n",
       "    <tr>\n",
       "      <th>1</th>\n",
       "      <td>[idea, people, give, bad, reviews, place, goes...</td>\n",
       "      <td>0</td>\n",
       "      <td>0</td>\n",
       "      <td>0</td>\n",
       "    </tr>\n",
       "    <tr>\n",
       "      <th>2</th>\n",
       "      <td>[love, gyro, plate, rice, good, also, dig, can...</td>\n",
       "      <td>0</td>\n",
       "      <td>1</td>\n",
       "      <td>0</td>\n",
       "    </tr>\n",
       "    <tr>\n",
       "      <th>3</th>\n",
       "      <td>[rosie, dakota, love, chaparral, dog, park, co...</td>\n",
       "      <td>1</td>\n",
       "      <td>2</td>\n",
       "      <td>0</td>\n",
       "    </tr>\n",
       "    <tr>\n",
       "      <th>4</th>\n",
       "      <td>[general, manager, scott, petello, good, egg, ...</td>\n",
       "      <td>0</td>\n",
       "      <td>0</td>\n",
       "      <td>0</td>\n",
       "    </tr>\n",
       "    <tr>\n",
       "      <th>...</th>\n",
       "      <td>...</td>\n",
       "      <td>...</td>\n",
       "      <td>...</td>\n",
       "      <td>...</td>\n",
       "    </tr>\n",
       "    <tr>\n",
       "      <th>9995</th>\n",
       "      <td>[first, visit, lunch, today, used, groupon, or...</td>\n",
       "      <td>1</td>\n",
       "      <td>2</td>\n",
       "      <td>0</td>\n",
       "    </tr>\n",
       "    <tr>\n",
       "      <th>9996</th>\n",
       "      <td>[called, house, deliciousness, could, go, item...</td>\n",
       "      <td>0</td>\n",
       "      <td>0</td>\n",
       "      <td>0</td>\n",
       "    </tr>\n",
       "    <tr>\n",
       "      <th>9997</th>\n",
       "      <td>[recently, visited, olive, ivy, business, last...</td>\n",
       "      <td>0</td>\n",
       "      <td>0</td>\n",
       "      <td>0</td>\n",
       "    </tr>\n",
       "    <tr>\n",
       "      <th>9998</th>\n",
       "      <td>[nephew, moved, scottsdale, recently, bunch, f...</td>\n",
       "      <td>0</td>\n",
       "      <td>0</td>\n",
       "      <td>0</td>\n",
       "    </tr>\n",
       "    <tr>\n",
       "      <th>9999</th>\n",
       "      <td>[4, 5, locations, 4, 5, star, average, think, ...</td>\n",
       "      <td>0</td>\n",
       "      <td>0</td>\n",
       "      <td>0</td>\n",
       "    </tr>\n",
       "  </tbody>\n",
       "</table>\n",
       "<p>10000 rows × 4 columns</p>\n",
       "</div>"
      ],
      "text/plain": [
       "                                                   text  cool  useful  funny\n",
       "0     [wife, took, birthday, breakfast, excellent, w...     2       5      0\n",
       "1     [idea, people, give, bad, reviews, place, goes...     0       0      0\n",
       "2     [love, gyro, plate, rice, good, also, dig, can...     0       1      0\n",
       "3     [rosie, dakota, love, chaparral, dog, park, co...     1       2      0\n",
       "4     [general, manager, scott, petello, good, egg, ...     0       0      0\n",
       "...                                                 ...   ...     ...    ...\n",
       "9995  [first, visit, lunch, today, used, groupon, or...     1       2      0\n",
       "9996  [called, house, deliciousness, could, go, item...     0       0      0\n",
       "9997  [recently, visited, olive, ivy, business, last...     0       0      0\n",
       "9998  [nephew, moved, scottsdale, recently, bunch, f...     0       0      0\n",
       "9999  [4, 5, locations, 4, 5, star, average, think, ...     0       0      0\n",
       "\n",
       "[10000 rows x 4 columns]"
      ]
     },
     "execution_count": 117,
     "metadata": {},
     "output_type": "execute_result"
    }
   ],
   "source": [
    "df"
   ]
  },
  {
   "cell_type": "code",
   "execution_count": 118,
   "id": "2985387c",
   "metadata": {},
   "outputs": [],
   "source": [
    "#stemming\n",
    "from nltk.stem.porter import PorterStemmer\n",
    "ps=PorterStemmer()"
   ]
  },
  {
   "cell_type": "code",
   "execution_count": 119,
   "id": "0e122dc9",
   "metadata": {},
   "outputs": [],
   "source": [
    "y=[]\n",
    "def stem_words(text):\n",
    "    for i in text:\n",
    "        y.append(ps.stem(i))\n",
    "    z=y[:]\n",
    "    y.clear()\n",
    "    return z"
   ]
  },
  {
   "cell_type": "code",
   "execution_count": 120,
   "id": "eadddba4",
   "metadata": {},
   "outputs": [],
   "source": [
    "\n",
    "df['text']= df['text'].apply(stem_words)"
   ]
  },
  {
   "cell_type": "code",
   "execution_count": 121,
   "id": "65346f39",
   "metadata": {},
   "outputs": [
    {
     "data": {
      "text/html": [
       "<div>\n",
       "<style scoped>\n",
       "    .dataframe tbody tr th:only-of-type {\n",
       "        vertical-align: middle;\n",
       "    }\n",
       "\n",
       "    .dataframe tbody tr th {\n",
       "        vertical-align: top;\n",
       "    }\n",
       "\n",
       "    .dataframe thead th {\n",
       "        text-align: right;\n",
       "    }\n",
       "</style>\n",
       "<table border=\"1\" class=\"dataframe\">\n",
       "  <thead>\n",
       "    <tr style=\"text-align: right;\">\n",
       "      <th></th>\n",
       "      <th>text</th>\n",
       "      <th>cool</th>\n",
       "      <th>useful</th>\n",
       "      <th>funny</th>\n",
       "    </tr>\n",
       "  </thead>\n",
       "  <tbody>\n",
       "    <tr>\n",
       "      <th>0</th>\n",
       "      <td>[wife, took, birthday, breakfast, excel, weath...</td>\n",
       "      <td>2</td>\n",
       "      <td>5</td>\n",
       "      <td>0</td>\n",
       "    </tr>\n",
       "    <tr>\n",
       "      <th>1</th>\n",
       "      <td>[idea, peopl, give, bad, review, place, goe, s...</td>\n",
       "      <td>0</td>\n",
       "      <td>0</td>\n",
       "      <td>0</td>\n",
       "    </tr>\n",
       "    <tr>\n",
       "      <th>2</th>\n",
       "      <td>[love, gyro, plate, rice, good, also, dig, can...</td>\n",
       "      <td>0</td>\n",
       "      <td>1</td>\n",
       "      <td>0</td>\n",
       "    </tr>\n",
       "    <tr>\n",
       "      <th>3</th>\n",
       "      <td>[rosi, dakota, love, chaparr, dog, park, conve...</td>\n",
       "      <td>1</td>\n",
       "      <td>2</td>\n",
       "      <td>0</td>\n",
       "    </tr>\n",
       "    <tr>\n",
       "      <th>4</th>\n",
       "      <td>[gener, manag, scott, petello, good, egg, go, ...</td>\n",
       "      <td>0</td>\n",
       "      <td>0</td>\n",
       "      <td>0</td>\n",
       "    </tr>\n",
       "    <tr>\n",
       "      <th>...</th>\n",
       "      <td>...</td>\n",
       "      <td>...</td>\n",
       "      <td>...</td>\n",
       "      <td>...</td>\n",
       "    </tr>\n",
       "    <tr>\n",
       "      <th>9995</th>\n",
       "      <td>[first, visit, lunch, today, use, groupon, ord...</td>\n",
       "      <td>1</td>\n",
       "      <td>2</td>\n",
       "      <td>0</td>\n",
       "    </tr>\n",
       "    <tr>\n",
       "      <th>9996</th>\n",
       "      <td>[call, hous, delici, could, go, item, item, bl...</td>\n",
       "      <td>0</td>\n",
       "      <td>0</td>\n",
       "      <td>0</td>\n",
       "    </tr>\n",
       "    <tr>\n",
       "      <th>9997</th>\n",
       "      <td>[recent, visit, oliv, ivi, busi, last, week, 3...</td>\n",
       "      <td>0</td>\n",
       "      <td>0</td>\n",
       "      <td>0</td>\n",
       "    </tr>\n",
       "    <tr>\n",
       "      <th>9998</th>\n",
       "      <td>[nephew, move, scottsdal, recent, bunch, frien...</td>\n",
       "      <td>0</td>\n",
       "      <td>0</td>\n",
       "      <td>0</td>\n",
       "    </tr>\n",
       "    <tr>\n",
       "      <th>9999</th>\n",
       "      <td>[4, 5, locat, 4, 5, star, averag, think, arizo...</td>\n",
       "      <td>0</td>\n",
       "      <td>0</td>\n",
       "      <td>0</td>\n",
       "    </tr>\n",
       "  </tbody>\n",
       "</table>\n",
       "<p>10000 rows × 4 columns</p>\n",
       "</div>"
      ],
      "text/plain": [
       "                                                   text  cool  useful  funny\n",
       "0     [wife, took, birthday, breakfast, excel, weath...     2       5      0\n",
       "1     [idea, peopl, give, bad, review, place, goe, s...     0       0      0\n",
       "2     [love, gyro, plate, rice, good, also, dig, can...     0       1      0\n",
       "3     [rosi, dakota, love, chaparr, dog, park, conve...     1       2      0\n",
       "4     [gener, manag, scott, petello, good, egg, go, ...     0       0      0\n",
       "...                                                 ...   ...     ...    ...\n",
       "9995  [first, visit, lunch, today, use, groupon, ord...     1       2      0\n",
       "9996  [call, hous, delici, could, go, item, item, bl...     0       0      0\n",
       "9997  [recent, visit, oliv, ivi, busi, last, week, 3...     0       0      0\n",
       "9998  [nephew, move, scottsdal, recent, bunch, frien...     0       0      0\n",
       "9999  [4, 5, locat, 4, 5, star, averag, think, arizo...     0       0      0\n",
       "\n",
       "[10000 rows x 4 columns]"
      ]
     },
     "execution_count": 121,
     "metadata": {},
     "output_type": "execute_result"
    }
   ],
   "source": [
    "df"
   ]
  },
  {
   "cell_type": "code",
   "execution_count": 122,
   "id": "bfb54c64",
   "metadata": {},
   "outputs": [],
   "source": [
    "#joining back from list to string\n",
    "def  join(list_input):\n",
    "    return \" \".join(list_input)"
   ]
  },
  {
   "cell_type": "code",
   "execution_count": 123,
   "id": "9ffe98dd",
   "metadata": {},
   "outputs": [],
   "source": [
    "df['text']= df['text'].apply(join)"
   ]
  },
  {
   "cell_type": "code",
   "execution_count": 124,
   "id": "e4d974ff",
   "metadata": {},
   "outputs": [
    {
     "data": {
      "text/html": [
       "<div>\n",
       "<style scoped>\n",
       "    .dataframe tbody tr th:only-of-type {\n",
       "        vertical-align: middle;\n",
       "    }\n",
       "\n",
       "    .dataframe tbody tr th {\n",
       "        vertical-align: top;\n",
       "    }\n",
       "\n",
       "    .dataframe thead th {\n",
       "        text-align: right;\n",
       "    }\n",
       "</style>\n",
       "<table border=\"1\" class=\"dataframe\">\n",
       "  <thead>\n",
       "    <tr style=\"text-align: right;\">\n",
       "      <th></th>\n",
       "      <th>text</th>\n",
       "      <th>cool</th>\n",
       "      <th>useful</th>\n",
       "      <th>funny</th>\n",
       "    </tr>\n",
       "  </thead>\n",
       "  <tbody>\n",
       "    <tr>\n",
       "      <th>0</th>\n",
       "      <td>wife took birthday breakfast excel weather per...</td>\n",
       "      <td>2</td>\n",
       "      <td>5</td>\n",
       "      <td>0</td>\n",
       "    </tr>\n",
       "    <tr>\n",
       "      <th>1</th>\n",
       "      <td>idea peopl give bad review place goe show plea...</td>\n",
       "      <td>0</td>\n",
       "      <td>0</td>\n",
       "      <td>0</td>\n",
       "    </tr>\n",
       "  </tbody>\n",
       "</table>\n",
       "</div>"
      ],
      "text/plain": [
       "                                                text  cool  useful  funny\n",
       "0  wife took birthday breakfast excel weather per...     2       5      0\n",
       "1  idea peopl give bad review place goe show plea...     0       0      0"
      ]
     },
     "execution_count": 124,
     "metadata": {},
     "output_type": "execute_result"
    }
   ],
   "source": [
    "df.head(2)"
   ]
  },
  {
   "cell_type": "code",
   "execution_count": 125,
   "id": "59591482",
   "metadata": {},
   "outputs": [],
   "source": [
    "df_cool = df[['text', 'cool']]\n",
    "df_useful = df[['text', 'useful']]\n",
    "df_funny = df[['text', 'funny']]\n"
   ]
  },
  {
   "cell_type": "code",
   "execution_count": 126,
   "id": "0db4b05c",
   "metadata": {},
   "outputs": [
    {
     "name": "stdout",
     "output_type": "stream",
     "text": [
      "<class 'pandas.core.frame.DataFrame'>\n",
      "RangeIndex: 10000 entries, 0 to 9999\n",
      "Data columns (total 2 columns):\n",
      " #   Column  Non-Null Count  Dtype \n",
      "---  ------  --------------  ----- \n",
      " 0   text    10000 non-null  object\n",
      " 1   cool    10000 non-null  int64 \n",
      "dtypes: int64(1), object(1)\n",
      "memory usage: 156.4+ KB\n",
      "<class 'pandas.core.frame.DataFrame'>\n",
      "RangeIndex: 10000 entries, 0 to 9999\n",
      "Data columns (total 2 columns):\n",
      " #   Column  Non-Null Count  Dtype \n",
      "---  ------  --------------  ----- \n",
      " 0   text    10000 non-null  object\n",
      " 1   useful  10000 non-null  int64 \n",
      "dtypes: int64(1), object(1)\n",
      "memory usage: 156.4+ KB\n",
      "<class 'pandas.core.frame.DataFrame'>\n",
      "RangeIndex: 10000 entries, 0 to 9999\n",
      "Data columns (total 2 columns):\n",
      " #   Column  Non-Null Count  Dtype \n",
      "---  ------  --------------  ----- \n",
      " 0   text    10000 non-null  object\n",
      " 1   funny   10000 non-null  int64 \n",
      "dtypes: int64(1), object(1)\n",
      "memory usage: 156.4+ KB\n"
     ]
    }
   ],
   "source": [
    "df_cool.info()\n",
    "df_useful.info()\n",
    "df_funny.info()\n"
   ]
  },
  {
   "cell_type": "code",
   "execution_count": 127,
   "id": "0b80681d",
   "metadata": {},
   "outputs": [],
   "source": [
    "X = df.iloc[:,0:1].values\n"
   ]
  },
  {
   "cell_type": "code",
   "execution_count": 128,
   "id": "2c9e513e",
   "metadata": {},
   "outputs": [
    {
     "data": {
      "text/plain": [
       "(10000, 1)"
      ]
     },
     "execution_count": 128,
     "metadata": {},
     "output_type": "execute_result"
    }
   ],
   "source": [
    "X.shape"
   ]
  },
  {
   "cell_type": "code",
   "execution_count": 129,
   "id": "8342de16",
   "metadata": {},
   "outputs": [],
   "source": [
    "from sklearn.feature_extraction.text import CountVectorizer\n",
    "cv = CountVectorizer(max_features=5000)"
   ]
  },
  {
   "cell_type": "code",
   "execution_count": 130,
   "id": "f770adfa",
   "metadata": {},
   "outputs": [],
   "source": [
    "X=cv.fit_transform(df['text']).toarray()"
   ]
  },
  {
   "cell_type": "code",
   "execution_count": 131,
   "id": "82d6e34c",
   "metadata": {},
   "outputs": [
    {
     "data": {
      "text/plain": [
       "(10000, 5000)"
      ]
     },
     "execution_count": 131,
     "metadata": {},
     "output_type": "execute_result"
    }
   ],
   "source": [
    "X.shape"
   ]
  },
  {
   "cell_type": "code",
   "execution_count": 132,
   "id": "2b749ad2",
   "metadata": {},
   "outputs": [],
   "source": [
    "y_cool = df_cool.iloc[:,1].values\n",
    "y_useful = df_useful.iloc[:,1].values\n",
    "y_funny = df_funny.iloc[:,1].values\n"
   ]
  },
  {
   "cell_type": "code",
   "execution_count": 133,
   "id": "13b5bc37",
   "metadata": {},
   "outputs": [
    {
     "data": {
      "text/plain": [
       "(10000,)"
      ]
     },
     "execution_count": 133,
     "metadata": {},
     "output_type": "execute_result"
    }
   ],
   "source": [
    "y_cool.shape"
   ]
  },
  {
   "cell_type": "code",
   "execution_count": 134,
   "id": "971101ba",
   "metadata": {},
   "outputs": [],
   "source": [
    "from sklearn.model_selection import train_test_split\n",
    "X_cool_train, X_cool_test, y_cool_train, y_cool_test = train_test_split(X,y_cool, test_size=0.2)\n",
    "X_useful_train, X_useful_test, y_useful_train, y_useful_test = train_test_split(X,y_useful, test_size=0.2)\n",
    "X_funny_train, X_funny_test, y_funny_train, y_funny_test = train_test_split(X,y_funny, test_size=0.2)"
   ]
  },
  {
   "cell_type": "code",
   "execution_count": 135,
   "id": "0ac62401",
   "metadata": {},
   "outputs": [
    {
     "name": "stdout",
     "output_type": "stream",
     "text": [
      "(8000, 5000)\n",
      "(8000,) (2000,)\n",
      "(8000,) (2000,)\n",
      "(8000,) (2000,)\n"
     ]
    }
   ],
   "source": [
    "print(X_cool_train.shape)\n",
    "print(y_cool_train.shape, y_cool_test.shape)\n",
    "print(y_useful_train.shape, y_useful_test.shape)\n",
    "print(y_funny_train.shape, y_funny_test.shape)\n"
   ]
  },
  {
   "cell_type": "code",
   "execution_count": 136,
   "id": "66a09e03",
   "metadata": {},
   "outputs": [],
   "source": [
    "from sklearn.naive_bayes import GaussianNB, MultinomialNB, BernoulliNB"
   ]
  },
  {
   "cell_type": "code",
   "execution_count": 137,
   "id": "f6145433",
   "metadata": {},
   "outputs": [],
   "source": [
    "nb_cool = BernoulliNB()\n",
    "nb_useful = BernoulliNB()\n",
    "nb1_funny = BernoulliNB()"
   ]
  },
  {
   "cell_type": "code",
   "execution_count": 139,
   "id": "13516179",
   "metadata": {},
   "outputs": [
    {
     "data": {
      "text/plain": [
       "BernoulliNB()"
      ]
     },
     "execution_count": 139,
     "metadata": {},
     "output_type": "execute_result"
    }
   ],
   "source": [
    "nb_cool.fit(X_cool_train,y_cool_train)\n",
    "nb_useful.fit(X_useful_train,y_useful_train)\n",
    "nb1_funny.fit(X_funny_train,y_funny_train)"
   ]
  },
  {
   "cell_type": "code",
   "execution_count": 142,
   "id": "33dc74a5",
   "metadata": {},
   "outputs": [],
   "source": [
    "y_cool_pred = nb_cool.predict(X_cool_test)\n",
    "y_useful_pred = nb_useful.predict(X_useful_test)\n",
    "y_funny_pred = nb1_funny.predict(X_funny_test)"
   ]
  },
  {
   "cell_type": "code",
   "execution_count": 141,
   "id": "b15e30fa",
   "metadata": {},
   "outputs": [],
   "source": [
    "from sklearn.metrics import accuracy_score"
   ]
  },
  {
   "cell_type": "code",
   "execution_count": 143,
   "id": "e1c46b1b",
   "metadata": {},
   "outputs": [
    {
     "name": "stdout",
     "output_type": "stream",
     "text": [
      "cool 0.5285\n",
      "useful 0.3725\n",
      "funny 0.578\n"
     ]
    }
   ],
   "source": [
    "print(\"cool\",accuracy_score(y_cool_test,y_cool_pred))\n",
    "print(\"useful\",accuracy_score(y_useful_test,y_useful_pred))\n",
    "print(\"funny\",accuracy_score(y_funny_test,y_funny_pred))"
   ]
  },
  {
   "cell_type": "code",
   "execution_count": 144,
   "id": "ffa09adf",
   "metadata": {},
   "outputs": [],
   "source": [
    "nb_useful_gauss = GaussianNB()\n",
    "nb_useful_multi = MultinomialNB()"
   ]
  },
  {
   "cell_type": "code",
   "execution_count": 145,
   "id": "3af06578",
   "metadata": {},
   "outputs": [
    {
     "data": {
      "text/plain": [
       "MultinomialNB()"
      ]
     },
     "execution_count": 145,
     "metadata": {},
     "output_type": "execute_result"
    }
   ],
   "source": [
    "nb_useful_gauss.fit(X_useful_train, y_useful_train)\n",
    "nb_useful_multi.fit(X_useful_train, y_useful_train)"
   ]
  },
  {
   "cell_type": "code",
   "execution_count": 147,
   "id": "0bcce560",
   "metadata": {},
   "outputs": [],
   "source": [
    "y_useful_gauss_pred = nb_useful_gauss.predict(X_useful_test)\n",
    "y_useful_multi_pred = nb_useful_multi.predict(X_useful_test)"
   ]
  },
  {
   "cell_type": "code",
   "execution_count": 148,
   "id": "003d38d4",
   "metadata": {},
   "outputs": [
    {
     "name": "stdout",
     "output_type": "stream",
     "text": [
      "useful 0.1495\n",
      "useful 0.3675\n"
     ]
    }
   ],
   "source": [
    "print(\"useful\",accuracy_score(y_useful_test,y_useful_gauss_pred))\n",
    "print(\"useful\",accuracy_score(y_useful_test,y_useful_multi_pred))"
   ]
  },
  {
   "cell_type": "code",
   "execution_count": null,
   "id": "8f9b4917",
   "metadata": {},
   "outputs": [],
   "source": []
  }
 ],
 "metadata": {
  "kernelspec": {
   "display_name": "Python 3 (ipykernel)",
   "language": "python",
   "name": "python3"
  },
  "language_info": {
   "codemirror_mode": {
    "name": "ipython",
    "version": 3
   },
   "file_extension": ".py",
   "mimetype": "text/x-python",
   "name": "python",
   "nbconvert_exporter": "python",
   "pygments_lexer": "ipython3",
   "version": "3.8.10"
  }
 },
 "nbformat": 4,
 "nbformat_minor": 5
}
